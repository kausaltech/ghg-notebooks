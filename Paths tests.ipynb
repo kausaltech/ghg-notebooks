{
 "cells": [
  {
   "cell_type": "code",
   "execution_count": 93,
   "id": "705377be-142d-406d-a574-41511d26f406",
   "metadata": {},
   "outputs": [],
   "source": [
    "import pandas as pd\n",
    "import numpy as np\n",
    "import pint\n",
    "import pint_pandas\n",
    "import iam_units\n",
    "import dvc_pandas\n",
    "from pint_pandas.pint_array import PintArray\n",
    "from typing import Dict\n",
    "#import nodes.context\n",
    "\n",
    "FORECAST_COLUMN = 'Forecast'\n",
    "FORECAST_x = 'Forecast_x'\n",
    "FORECAST_y = 'Forecast_y'\n",
    "VALUE_COLUMN = 'Value'\n",
    "VALUE_x = 'Value_x'\n",
    "VALUE_y = 'Value_y'\n"
   ]
  },
  {
   "cell_type": "code",
   "execution_count": 122,
   "id": "4cdff010-4119-4140-8b91-8002e3b33a91",
   "metadata": {},
   "outputs": [
    {
     "data": {
      "text/html": [
       "3.0 mg/g"
      ],
      "text/latex": [
       "$3.0\\ \\frac{\\mathrm{mg}}{\\mathrm{g}}$"
      ],
      "text/plain": [
       "3.0 <Unit('milligram / gram')>"
      ]
     },
     "execution_count": 122,
     "metadata": {},
     "output_type": "execute_result"
    }
   ],
   "source": [
    "df6 = pd.DataFrame({\n",
    "    'A': pd.Series([2,4]),\n",
    "    'Value': pd.Series([1.,3.], dtype='pint[mg/g]'),\n",
    "    'erf': pd.Series(['RR', 'Step'])\n",
    "})#.set_index(['A'])\n",
    "\n",
    "df6.loc[df6.erf=='Step'].reset_index().Value[0]"
   ]
  },
  {
   "cell_type": "code",
   "execution_count": null,
   "id": "479fddb9-23d9-4021-bb5b-96df7e553377",
   "metadata": {},
   "outputs": [],
   "source": [
    "#        exposure[VALUE_COLUMN] = exposure[VALUE_COLUMN].pint.to('mg/kg/d', 'exposure_generic')\n"
   ]
  }
 ],
 "metadata": {
  "kernelspec": {
   "display_name": "Python 3 (ipykernel)",
   "language": "python",
   "name": "python3"
  },
  "language_info": {
   "codemirror_mode": {
    "name": "ipython",
    "version": 3
   },
   "file_extension": ".py",
   "mimetype": "text/x-python",
   "name": "python",
   "nbconvert_exporter": "python",
   "pygments_lexer": "ipython3",
   "version": "3.9.6"
  }
 },
 "nbformat": 4,
 "nbformat_minor": 5
}
