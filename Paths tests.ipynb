{
 "cells": [
  {
   "cell_type": "code",
   "execution_count": 137,
   "id": "705377be-142d-406d-a574-41511d26f406",
   "metadata": {},
   "outputs": [],
   "source": [
    "import pandas as pd\n",
    "import numpy as np\n",
    "import pint\n",
    "import pint_pandas\n",
    "import iam_units\n",
    "import dvc_pandas\n",
    "from pint_pandas.pint_array import PintArray\n",
    "from typing import Dict\n",
    "#import nodes.context\n",
    "\n",
    "FORECAST_COLUMN = 'Forecast'\n",
    "FORECAST_x = 'Forecast_x'\n",
    "FORECAST_y = 'Forecast_y'\n",
    "VALUE_COLUMN = 'Value'\n",
    "VALUE_x = 'Value_x'\n",
    "VALUE_y = 'Value_y'\n",
    "\n",
    "unit_registry = pint.UnitRegistry(\n",
    "    preprocessors=[\n",
    "        lambda s: s.replace('%', ' percent '),\n",
    "    ],\n",
    "    on_redefinition='raise'\n",
    ")\n",
    "\n",
    "# By default, kt is knots, but here kilotonne is the most common\n",
    "# usage.\n",
    "del unit_registry._units['kt']\n",
    "unit_registry.define('kt = kilotonne')\n",
    "# Mega-kilometers is often used for mileage\n",
    "unit_registry.define('Mkm = gigameters')\n",
    "unit_registry.define(pint.unit.UnitDefinition(\n",
    "    'percent', '%', (), pint.converters.ScaleConverter(0.01)\n",
    "))\n",
    "unit_registry.define('ingestion_p1 = mg/d')\n",
    "unit_registry.define('disability_adjusted_life_year = [disease_burden] = DALY')\n",
    "unit_registry.define('Lden = []')\n",
    "unit_registry.define('microbe = [] = microbes')\n",
    "unit_registry.define('parts_per_million = mg / kg = ppm')\n",
    "unit_registry.define('personyear = person * year')\n",
    "unit_registry.define('euro = [] = EUR')\n",
    "unit_registry.define('toxic_equivalency_factor = [tef] = TEF')\n",
    "unit_registry.define('MET = [metabolic_equivalent]')\n",
    "unit_registry.define('METh = MET * h')\n",
    "\n",
    "unit_registry.default_format = '~P'\n",
    "pint.set_application_registry(unit_registry)\n",
    "pint_pandas.PintType.ureg = unit_registry  # type: ignore"
   ]
  },
  {
   "cell_type": "code",
   "execution_count": 157,
   "id": "4cdff010-4119-4140-8b91-8002e3b33a91",
   "metadata": {},
   "outputs": [
    {
     "name": "stderr",
     "output_type": "stream",
     "text": [
      "/Library/Frameworks/Python.framework/Versions/3.9/lib/python3.9/site-packages/pint_pandas/pint_array.py:648: UnitStrippedWarning: The unit of the quantity is stripped when downcasting to ndarray.\n",
      "  return np.array(qtys, dtype=\"object\", copy=copy)\n",
      "/Library/Frameworks/Python.framework/Versions/3.9/lib/python3.9/site-packages/pint_pandas/pint_array.py:648: UnitStrippedWarning: The unit of the quantity is stripped when downcasting to ndarray.\n",
      "  return np.array(qtys, dtype=\"object\", copy=copy)\n"
     ]
    },
    {
     "data": {
      "text/html": [
       "<div>\n",
       "<style scoped>\n",
       "    .dataframe tbody tr th:only-of-type {\n",
       "        vertical-align: middle;\n",
       "    }\n",
       "\n",
       "    .dataframe tbody tr th {\n",
       "        vertical-align: top;\n",
       "    }\n",
       "\n",
       "    .dataframe thead th {\n",
       "        text-align: right;\n",
       "    }\n",
       "</style>\n",
       "<table border=\"1\" class=\"dataframe\">\n",
       "  <thead>\n",
       "    <tr style=\"text-align: right;\">\n",
       "      <th></th>\n",
       "      <th></th>\n",
       "      <th>Value</th>\n",
       "    </tr>\n",
       "    <tr>\n",
       "      <th>A</th>\n",
       "      <th>erf</th>\n",
       "      <th></th>\n",
       "    </tr>\n",
       "  </thead>\n",
       "  <tbody>\n",
       "    <tr>\n",
       "      <th>2</th>\n",
       "      <th>RR</th>\n",
       "      <td>1.0</td>\n",
       "    </tr>\n",
       "    <tr>\n",
       "      <th>4</th>\n",
       "      <th>Step</th>\n",
       "      <td>3.0</td>\n",
       "    </tr>\n",
       "  </tbody>\n",
       "</table>\n",
       "</div>"
      ],
      "text/plain": [
       "       Value\n",
       "A erf       \n",
       "2 RR     1.0\n",
       "4 Step   3.0"
      ]
     },
     "execution_count": 157,
     "metadata": {},
     "output_type": "execute_result"
    }
   ],
   "source": [
    "df = pd.DataFrame({\n",
    "    'A': pd.Series([2,4]),\n",
    "    'Value': pd.Series([1.,3.], dtype='pint[mg/d]'),\n",
    "    'erf': pd.Series(['RR', 'Step'])\n",
    "}).set_index(['A'])\n",
    "\n",
    "#df.loc[df.erf=='Step'].reset_index().Value[0]\n",
    "newind = df.index.names + ['erf']\n",
    "df.reset_index().set_index(newind)"
   ]
  },
  {
   "cell_type": "code",
   "execution_count": 147,
   "id": "479fddb9-23d9-4021-bb5b-96df7e553377",
   "metadata": {},
   "outputs": [
    {
     "name": "stdout",
     "output_type": "stream",
     "text": [
      "0    1.0\n",
      "1    3.0\n",
      "Name: Value, dtype: pint[mg/d]\n"
     ]
    },
    {
     "data": {
      "text/html": [
       "0.001 kLden"
      ],
      "text/latex": [
       "$0.001\\ \\mathrm{kLden}$"
      ],
      "text/plain": [
       "0.001 <Unit('kiloLden')>"
      ]
     },
     "execution_count": 147,
     "metadata": {},
     "output_type": "execute_result"
    }
   ],
   "source": [
    "#        exposure[VALUE_COLUMN] = exposure[VALUE_COLUMN].pint.to('mg/kg/d', 'exposure_generic')\n",
    "def check_erf_units(param):\n",
    "    out = unit_registry(param)\n",
    "    is_erf_compatible = df6.Value.pint.units.is_compatible_with(out)\n",
    "    if not is_erf_compatible:\n",
    "        print(df6.Value)\n",
    "#        df6.Value = df6.Value.pint.to('kg/a')\n",
    "        out = out.to('kLden')\n",
    "    return out\n",
    "\n",
    "check_erf_units('Lden')"
   ]
  },
  {
   "cell_type": "code",
   "execution_count": 150,
   "id": "a3fc5e74-ae4d-4509-b0b7-aa5d9bc7cebb",
   "metadata": {},
   "outputs": [
    {
     "data": {
      "text/plain": [
       "'kg d / mg'"
      ]
     },
     "execution_count": 150,
     "metadata": {},
     "output_type": "execute_result"
    }
   ],
   "source": [
    "powers = {\n",
    "    'p1': 'mg/kg/d',\n",
    "    'p0': 'dimensionless',\n",
    "    'm1': 'kg d / mg',\n",
    "    'm2': '(kg d / mg)**2',\n",
    "    'm3': '(kg d / mg)**3'\n",
    "}\n",
    "powers['m1']"
   ]
  },
  {
   "cell_type": "code",
   "execution_count": null,
   "id": "41a3a384-2a88-4ff6-b9a2-7b09393ee169",
   "metadata": {},
   "outputs": [],
   "source": []
  }
 ],
 "metadata": {
  "kernelspec": {
   "display_name": "Python 3 (ipykernel)",
   "language": "python",
   "name": "python3"
  },
  "language_info": {
   "codemirror_mode": {
    "name": "ipython",
    "version": 3
   },
   "file_extension": ".py",
   "mimetype": "text/x-python",
   "name": "python",
   "nbconvert_exporter": "python",
   "pygments_lexer": "ipython3",
   "version": "3.9.6"
  }
 },
 "nbformat": 4,
 "nbformat_minor": 5
}
