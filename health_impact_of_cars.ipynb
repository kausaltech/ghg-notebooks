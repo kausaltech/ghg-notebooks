{
 "cells": [
  {
   "cell_type": "code",
   "execution_count": 1,
   "metadata": {},
   "outputs": [
    {
     "data": {
      "text/html": [
       "        <script type=\"text/javascript\">\n",
       "        window.PlotlyConfig = {MathJaxConfig: 'local'};\n",
       "        if (window.MathJax) {MathJax.Hub.Config({SVG: {font: \"STIX-Web\"}});}\n",
       "        if (typeof require !== 'undefined') {\n",
       "        require.undef(\"plotly\");\n",
       "        requirejs.config({\n",
       "            paths: {\n",
       "                'plotly': ['https://cdn.plot.ly/plotly-latest.min']\n",
       "            }\n",
       "        });\n",
       "        require(['plotly'], function(Plotly) {\n",
       "            window._Plotly = Plotly;\n",
       "        });\n",
       "        }\n",
       "        </script>\n",
       "        "
      ]
     },
     "metadata": {},
     "output_type": "display_data"
    },
    {
     "data": {
      "text/html": [
       "        <script type=\"text/javascript\">\n",
       "        window.PlotlyConfig = {MathJaxConfig: 'local'};\n",
       "        if (window.MathJax) {MathJax.Hub.Config({SVG: {font: \"STIX-Web\"}});}\n",
       "        if (typeof require !== 'undefined') {\n",
       "        require.undef(\"plotly\");\n",
       "        requirejs.config({\n",
       "            paths: {\n",
       "                'plotly': ['https://cdn.plot.ly/plotly-latest.min']\n",
       "            }\n",
       "        });\n",
       "        require(['plotly'], function(Plotly) {\n",
       "            window._Plotly = Plotly;\n",
       "        });\n",
       "        }\n",
       "        </script>\n",
       "        "
      ]
     },
     "metadata": {},
     "output_type": "display_data"
    },
    {
     "data": {
      "text/html": [
       "        <script type=\"text/javascript\">\n",
       "        window.PlotlyConfig = {MathJaxConfig: 'local'};\n",
       "        if (window.MathJax) {MathJax.Hub.Config({SVG: {font: \"STIX-Web\"}});}\n",
       "        if (typeof require !== 'undefined') {\n",
       "        require.undef(\"plotly\");\n",
       "        requirejs.config({\n",
       "            paths: {\n",
       "                'plotly': ['https://cdn.plot.ly/plotly-latest.min']\n",
       "            }\n",
       "        });\n",
       "        require(['plotly'], function(Plotly) {\n",
       "            window._Plotly = Plotly;\n",
       "        });\n",
       "        }\n",
       "        </script>\n",
       "        "
      ]
     },
     "metadata": {},
     "output_type": "display_data"
    }
   ],
   "source": [
    "import pandas as pd\n",
    "from utils.quilt import load_datasets\n",
    "import plotly\n",
    "import plotly.graph_objs as go\n",
    "import cufflinks as cf\n",
    "from zipfile import ZipFile\n",
    "from io import BytesIO\n",
    "from urllib.request import urlopen\n",
    "\n",
    "plotly.offline.init_notebook_mode(connected=True)\n",
    "cf.set_config_file(offline=True)"
   ]
  },
  {
   "cell_type": "code",
   "execution_count": 2,
   "metadata": {},
   "outputs": [
    {
     "name": "stdout",
     "output_type": "stream",
     "text": [
      "    year           val                 cause_name\n",
      "0   1990  4.758732e+05  Cardiopulmonary mortality\n",
      "1   1991  4.605241e+05  Cardiopulmonary mortality\n",
      "2   1992  4.536654e+05  Cardiopulmonary mortality\n",
      "3   1993  4.434454e+05  Cardiopulmonary mortality\n",
      "4   1994  4.212067e+05  Cardiopulmonary mortality\n",
      "..   ...           ...                        ...\n",
      "4   2019  1.605238e+06            Total mortality\n",
      "5   2020  1.605238e+06            Total mortality\n",
      "6   2018  4.568082e+04      Lung cancer mortality\n",
      "7   2019  4.568082e+04      Lung cancer mortality\n",
      "8   2020  4.568082e+04      Lung cancer mortality\n",
      "\n",
      "[75 rows x 3 columns]\n"
     ]
    }
   ],
   "source": [
    "\n",
    "# Calculate burden of disease (BoD) from IHME data\n",
    "# File contains disease burden estimates for Finland, all ages and both sexes\n",
    "\n",
    "zipurl = \"http://en.opasnet.org/en-opwiki/images/2/2d/IHME_Fin_Risks_by_Cause.zip\"\n",
    "file_name = \"IHME-GBD_2017_DATA-8ce9adcf-1.csv\"\n",
    "\n",
    "with urlopen(zipurl) as zipresp:\n",
    "    with ZipFile(BytesIO(zipresp.read())) as zfile:\n",
    "        df = pd.read_csv(zfile.open(file_name))\n",
    "        \n",
    "df = df.loc[df.measure_name == \"DALYs (Disability-Adjusted Life Years)\"].loc[df.metric_name == \"Number\"]\n",
    "df = df.loc[:,['cause_name','year','val']]\n",
    "\n",
    "tmp = df\n",
    "tmp = tmp.loc[tmp.cause_name.isin(['Cardiovascular diseases','Chronic respiratory diseases'])]\n",
    "tmp = tmp.groupby('year').sum().reset_index()\n",
    "tmp['cause_name'] = 'Cardiopulmonary mortality'\n",
    "\n",
    "df = df.groupby('year').sum().reset_index()\n",
    "df['cause_name'] = 'Total mortality'\n",
    "\n",
    "df = pd.concat([tmp, df],axis=0)\n",
    "\n",
    "# From IHME database\n",
    "# DALYs (Disability-Adjusted Life Years), Finland, Both sexes, All Ages\n",
    "# Tracheal, bronchus, and lung cancer, Number, 2008-2017\n",
    "tmp = pd.DataFrame({'year': [2008, 2009, 2010, 2011, 2012, 2013, 2014, 2015, 2016, 2017],\n",
    "             'val': [\n",
    "42651.71,\n",
    "43159.42,\n",
    "43754.29,\n",
    "43621.28,\n",
    "43759.33,\n",
    "44319.12,\n",
    "43718.99,\n",
    "43327.07,\n",
    "44461.26,\n",
    "45680.82]})\n",
    "tmp['cause_name'] = \"Lung cancer mortality\"\n",
    "\n",
    "df = pd.concat([df, tmp], axis=0)\n",
    "\n",
    "tmp = df.loc[df.year==2017].drop(columns='year')\n",
    "#tmp = pd.merge(tmp, pd.DataFrame([2017, 2018, 2019, 2020], columns=\"year\"))\n",
    "tmp['tmp'] = 1\n",
    "tmp = tmp.merge(pd.DataFrame({'year' : [2018, 2019, 2020], 'tmp':[1,1,1]})).drop(columns='tmp')\n",
    "\n",
    "df = pd.concat([df,tmp], axis=0)\n",
    "print(df)\n",
    "\n",
    "BoD = df\n",
    "\n",
    "df.to_csv(\"BoD.csv\")"
   ]
  },
  {
   "cell_type": "code",
   "execution_count": null,
   "metadata": {},
   "outputs": [],
   "source": []
  },
  {
   "cell_type": "code",
   "execution_count": 109,
   "metadata": {},
   "outputs": [
    {
     "name": "stdout",
     "output_type": "stream",
     "text": [
      "       Year      Vehicle      Road         PM\n",
      "270    2012        Buses  Highways   0.951182\n",
      "271    2012        Buses     Urban   6.804615\n",
      "272    2012         Cars  Highways   7.672931\n",
      "273    2012         Cars     Urban  15.944340\n",
      "274    2012       Mopeds       All   3.299448\n",
      "...     ...          ...       ...        ...\n",
      "19451  2018  Motorcycles       All   2.538113\n",
      "19452  2018       Trucks  Highways   2.449805\n",
      "19453  2018       Trucks     Urban   3.161581\n",
      "19454  2018         Vans  Highways   5.611752\n",
      "19455  2018         Vans     Urban   8.401600\n",
      "\n",
      "[75 rows x 4 columns]\n"
     ]
    }
   ],
   "source": [
    "# Calculate fine particulate matter (PM2.5) emissions (ton/a?)\n",
    "\n",
    "df = load_datasets('jyrjola/lipasto/emissions_by_municipality')\n",
    "\n",
    "df = df[df.Municipality == 'Helsinki']\n",
    "df = df[['Year', 'Vehicle', 'Road', 'PM']]\n",
    "print(df)"
   ]
  },
  {
   "cell_type": "code",
   "execution_count": 110,
   "metadata": {},
   "outputs": [],
   "source": [
    "gdf = df.groupby(['Year', 'Road']).sum().reset_index()\n",
    "df = gdf[gdf.Road == 'Urban'].drop(columns='Road')\n",
    "\n",
    "print(df)"
   ]
  },
  {
   "cell_type": "code",
   "execution_count": 1,
   "metadata": {},
   "outputs": [],
   "source": [
    "import json\n",
    "import urllib.request\n",
    "import pandas as pd\n",
    "\n",
    "def opbase_data(ident, drop=['sid','aid','Obs']):\n",
    "    url = \"http://cl1.opasnet.org/opasnet_base_2/index.php?ident=\" + ident + \"&act=0\" # URL of the Opasnet Base table\n",
    "\n",
    "    obj = urllib.request.urlopen(url).read().decode()\n",
    "    obj = json.loads(obj)\n",
    "\n",
    "    url2 = \"http://cl1.opasnet.org/opasnet_base_2/index.php?key=\" + obj['key'] # URL for obtaining the data with a temporary key\n",
    "\n",
    "    df = urllib.request.urlopen(url2).read().decode()\n",
    "    df = json.loads(json.loads(df)['data'])\n",
    "    df = pd.json_normalize(df)\n",
    "\n",
    "    #from pandas.io.json import json_normalize\n",
    "\n",
    "    indices = pd.json_normalize(obj['indices'])\n",
    "    \n",
    "    for i in indices.ident:\n",
    "        df.rename({i: indices.name[int(i)]}, axis=1, inplace=True)\n",
    "        \n",
    "    df = df.drop(columns=drop)\n",
    "\n",
    "    return df\n"
   ]
  },
  {
   "cell_type": "code",
   "execution_count": 78,
   "metadata": {},
   "outputs": [],
   "source": [
    "# Fetch knowledge crystal for intake fraction\n",
    "\n",
    "ident = \"Op_en5813.intake_fractions_of_pm\"\n",
    "\n",
    "iF = opbase_data(ident)\n",
    "iF = iF[iF.Pollutant == 'PM2.5']\n",
    "iF.res = list(map(float, iF.res))\n",
    "iF.res = iF.res * 1E-6\n"
   ]
  },
  {
   "cell_type": "code",
   "execution_count": 79,
   "metadata": {},
   "outputs": [
    {
     "name": "stdout",
     "output_type": "stream",
     "text": [
      "   Pollutant Emission height     Area           res\n",
      "16     PM2.5            High    Urban  1.100000e-05\n",
      "17     PM2.5            High    Rural  1.600000e-06\n",
      "18     PM2.5            High   Remote  1.000000e-07\n",
      "19     PM2.5            High  Average  6.800000e-06\n",
      "20     PM2.5             Low    Urban  1.500000e-05\n",
      "21     PM2.5             Low    Rural  2.000000e-06\n",
      "22     PM2.5             Low   Remote  1.000000e-07\n",
      "23     PM2.5             Low  Average  6.800000e-06\n",
      "24     PM2.5          Ground    Urban  4.400000e-05\n",
      "25     PM2.5          Ground    Rural  3.800000e-06\n",
      "26     PM2.5          Ground   Remote  1.000000e-07\n",
      "27     PM2.5          Ground  Average  2.500000e-05\n",
      "28     PM2.5         Average    Urban  2.600000e-05\n",
      "29     PM2.5         Average    Rural  2.600000e-06\n",
      "30     PM2.5         Average   Remote  1.000000e-07\n",
      "31     PM2.5         Average  Average  1.500000e-05\n"
     ]
    }
   ],
   "source": [
    "# iF = c * BR * Pop / Em, where iF: intake fraction, c: ambient concentration, Pop: population size\n",
    "# c = iF * Em / BR / Pop\n",
    "\n",
    "# Therefore, exposure concentration is calculated as:\n",
    "def exposure(emissions, population, iF):\n",
    "    BR = 20 # breathing rate is the nominal 20 m³/d\n",
    "    BR = BR * 365.25 # m³/d --> m³/a\n",
    "\n",
    "    emissions = emissions * 1E+12 # ton --> ug\n",
    "\n",
    "    out = (emissions * out) * iF / BR / population # the actual equation\n",
    "    out = unkeep(out, prevresults = TRUE, sources = TRUE)\n",
    "    out@output = out@output[!out@output$Pollutant %in% c(\"CO2\", \"CO2official\") , ]\n",
    "    colnames(out@output)[colnames(out@output) == \"Pollutant\"] <- \"Exposure_agent\"\n",
    "    out = oapply(out, cols = c(\"Renovation\"), FUN = sum)\n",
    "\n",
    "    return out\n"
   ]
  },
  {
   "cell_type": "code",
   "execution_count": null,
   "metadata": {},
   "outputs": [],
   "source": []
  }
 ],
 "metadata": {
  "kernelspec": {
   "display_name": "Python 3 (ipykernel)",
   "language": "python",
   "name": "python3"
  },
  "language_info": {
   "codemirror_mode": {
    "name": "ipython",
    "version": 3
   },
   "file_extension": ".py",
   "mimetype": "text/x-python",
   "name": "python",
   "nbconvert_exporter": "python",
   "pygments_lexer": "ipython3",
   "version": "3.9.6"
  }
 },
 "nbformat": 4,
 "nbformat_minor": 4
}
